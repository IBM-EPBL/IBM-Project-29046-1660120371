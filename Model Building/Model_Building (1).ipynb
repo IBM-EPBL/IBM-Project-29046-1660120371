{
  "nbformat": 4,
  "nbformat_minor": 0,
  "metadata": {
    "colab": {
      "provenance": []
    },
    "kernelspec": {
      "name": "python3",
      "display_name": "Python 3"
    },
    "language_info": {
      "name": "python"
    },
    "accelerator": "GPU",
    "gpuClass": "standard"
  },
  "cells": [
    {
      "cell_type": "code",
      "source": [
        "#Understanding the data ipynb\n",
        "import numpy\n",
        "import tensorflow\n",
        "from tensorflow.keras.datasets import mnist\n",
        "from tensorflow.keras.models import Sequential\n",
        "from tensorflow.keras import layers\n",
        "from tensorflow.keras.layers import Dense, Flatten\n",
        "from tensorflow.keras.layers import Conv2D\n",
        "from keras.optimizers import Adam\n",
        "from keras.utils import np_utils\n",
        "(X_train, y_train), (X_test, y_test) = mnist.load_data()\n",
        "print(X_train.shape)\n",
        "print(X_test.shape)\n",
        "X_train[0]\n",
        "X_train = X_train.reshape(60000,28,28,1).astype('float32')\n",
        "X_test = X_test.reshape(10000,28,28,1).astype('float32')\n",
        "number_of_classes = 10\n",
        "y_train = np_utils.to_categorical(y_train, number_of_classes)\n",
        "y_test = np_utils.to_categorical(y_test, number_of_classes)\n",
        "y_train[0]"
      ],
      "metadata": {
        "colab": {
          "base_uri": "https://localhost:8080/"
        },
        "id": "qiQSaUy0x9Ze",
        "outputId": "7e3beb52-9e9e-4a99-88ce-97dc30b63d9b"
      },
      "execution_count": 4,
      "outputs": [
        {
          "output_type": "stream",
          "name": "stdout",
          "text": [
            "Downloading data from https://storage.googleapis.com/tensorflow/tf-keras-datasets/mnist.npz\n",
            "11490434/11490434 [==============================] - 2s 0us/step\n",
            "(60000, 28, 28)\n",
            "(10000, 28, 28)\n"
          ]
        },
        {
          "output_type": "execute_result",
          "data": {
            "text/plain": [
              "array([0., 0., 0., 0., 0., 1., 0., 0., 0., 0.], dtype=float32)"
            ]
          },
          "metadata": {},
          "execution_count": 4
        }
      ]
    },
    {
      "cell_type": "markdown",
      "source": [
        "Add CNN Layers\n"
      ],
      "metadata": {
        "id": "-E5795yMQANl"
      }
    },
    {
      "cell_type": "code",
      "source": [
        "model= Sequential()\n",
        "model.add(Conv2D(64,(3,3), input_shape=(28,28,1), activation='relu'))\n",
        "model.add(Conv2D(32,(3,3), activation='relu'))\n",
        "model.add(Flatten())\n",
        "model.add(Dense(number_of_classes, activation='softmax'))"
      ],
      "metadata": {
        "id": "-2FLzIwsR2ye"
      },
      "execution_count": 5,
      "outputs": []
    },
    {
      "cell_type": "markdown",
      "source": [
        "Compiling the model"
      ],
      "metadata": {
        "id": "8USFz0vhSaDn"
      }
    },
    {
      "cell_type": "code",
      "source": [
        "model.compile(loss='categorical_crossentropy', optimizer=\"Adam\", metrics=['accuracy'])"
      ],
      "metadata": {
        "id": "mBrSYr0QShJv"
      },
      "execution_count": 6,
      "outputs": []
    },
    {
      "cell_type": "markdown",
      "source": [
        "Train the model"
      ],
      "metadata": {
        "id": "JpSHSZYeS-LO"
      }
    },
    {
      "cell_type": "code",
      "source": [
        "model.fit(X_train, y_train, validation_data=(X_test,y_test), epochs=20, batch_size=32)"
      ],
      "metadata": {
        "colab": {
          "base_uri": "https://localhost:8080/"
        },
        "id": "M0y2qkyNTAjq",
        "outputId": "02c18369-5401-4e45-a8af-77d8607dac84"
      },
      "execution_count": 7,
      "outputs": [
        {
          "output_type": "stream",
          "name": "stdout",
          "text": [
            "Epoch 1/20\n",
            "1875/1875 [==============================] - 15s 4ms/step - loss: 0.2346 - accuracy: 0.9508 - val_loss: 0.0753 - val_accuracy: 0.9756\n",
            "Epoch 2/20\n",
            "1875/1875 [==============================] - 8s 4ms/step - loss: 0.0670 - accuracy: 0.9798 - val_loss: 0.0785 - val_accuracy: 0.9783\n",
            "Epoch 3/20\n",
            "1875/1875 [==============================] - 7s 4ms/step - loss: 0.0462 - accuracy: 0.9855 - val_loss: 0.0789 - val_accuracy: 0.9772\n",
            "Epoch 4/20\n",
            "1875/1875 [==============================] - 8s 4ms/step - loss: 0.0328 - accuracy: 0.9898 - val_loss: 0.1152 - val_accuracy: 0.9715\n",
            "Epoch 5/20\n",
            "1875/1875 [==============================] - 7s 4ms/step - loss: 0.0303 - accuracy: 0.9912 - val_loss: 0.0961 - val_accuracy: 0.9774\n",
            "Epoch 6/20\n",
            "1875/1875 [==============================] - 7s 4ms/step - loss: 0.0230 - accuracy: 0.9933 - val_loss: 0.1457 - val_accuracy: 0.9725\n",
            "Epoch 7/20\n",
            "1875/1875 [==============================] - 7s 4ms/step - loss: 0.0200 - accuracy: 0.9942 - val_loss: 0.1078 - val_accuracy: 0.9799\n",
            "Epoch 8/20\n",
            "1875/1875 [==============================] - 7s 4ms/step - loss: 0.0180 - accuracy: 0.9949 - val_loss: 0.1241 - val_accuracy: 0.9809\n",
            "Epoch 9/20\n",
            "1875/1875 [==============================] - 8s 4ms/step - loss: 0.0143 - accuracy: 0.9957 - val_loss: 0.1951 - val_accuracy: 0.9770\n",
            "Epoch 10/20\n",
            "1875/1875 [==============================] - 8s 4ms/step - loss: 0.0180 - accuracy: 0.9954 - val_loss: 0.1471 - val_accuracy: 0.9794\n",
            "Epoch 11/20\n",
            "1875/1875 [==============================] - 8s 4ms/step - loss: 0.0148 - accuracy: 0.9962 - val_loss: 0.1721 - val_accuracy: 0.9795\n",
            "Epoch 12/20\n",
            "1875/1875 [==============================] - 8s 4ms/step - loss: 0.0151 - accuracy: 0.9963 - val_loss: 0.2292 - val_accuracy: 0.9783\n",
            "Epoch 13/20\n",
            "1875/1875 [==============================] - 7s 4ms/step - loss: 0.0121 - accuracy: 0.9973 - val_loss: 0.2453 - val_accuracy: 0.9796\n",
            "Epoch 14/20\n",
            "1875/1875 [==============================] - 8s 4ms/step - loss: 0.0159 - accuracy: 0.9969 - val_loss: 0.2709 - val_accuracy: 0.9794\n",
            "Epoch 15/20\n",
            "1875/1875 [==============================] - 7s 4ms/step - loss: 0.0167 - accuracy: 0.9971 - val_loss: 0.2845 - val_accuracy: 0.9794\n",
            "Epoch 16/20\n",
            "1875/1875 [==============================] - 7s 4ms/step - loss: 0.0151 - accuracy: 0.9971 - val_loss: 0.2767 - val_accuracy: 0.9792\n",
            "Epoch 17/20\n",
            "1875/1875 [==============================] - 8s 4ms/step - loss: 0.0121 - accuracy: 0.9978 - val_loss: 0.3280 - val_accuracy: 0.9804\n",
            "Epoch 18/20\n",
            "1875/1875 [==============================] - 8s 4ms/step - loss: 0.0153 - accuracy: 0.9975 - val_loss: 0.3228 - val_accuracy: 0.9772\n",
            "Epoch 19/20\n",
            "1875/1875 [==============================] - 8s 4ms/step - loss: 0.0155 - accuracy: 0.9977 - val_loss: 0.3082 - val_accuracy: 0.9788\n",
            "Epoch 20/20\n",
            "1875/1875 [==============================] - 7s 4ms/step - loss: 0.0132 - accuracy: 0.9980 - val_loss: 0.4283 - val_accuracy: 0.9788\n"
          ]
        },
        {
          "output_type": "execute_result",
          "data": {
            "text/plain": [
              "<keras.callbacks.History at 0x7f0218711210>"
            ]
          },
          "metadata": {},
          "execution_count": 7
        }
      ]
    },
    {
      "cell_type": "markdown",
      "source": [
        "Observing the metrics"
      ],
      "metadata": {
        "id": "XWDKl4nITUxD"
      }
    },
    {
      "cell_type": "code",
      "source": [
        "metrics = model.evaluate(X_test, y_test, verbose=0)\n",
        "print(\"Metrics(Test loss & Test Accuracy: \")\n",
        "print(metrics)"
      ],
      "metadata": {
        "colab": {
          "base_uri": "https://localhost:8080/"
        },
        "id": "BrB5VdK1T35h",
        "outputId": "b56d5114-8f1c-426a-805a-115c562d329e"
      },
      "execution_count": 8,
      "outputs": [
        {
          "output_type": "stream",
          "name": "stdout",
          "text": [
            "Metrics(Test loss & Test Accuracy: \n",
            "[0.42832523584365845, 0.9787999987602234]\n"
          ]
        }
      ]
    },
    {
      "cell_type": "markdown",
      "source": [
        "Predicting the output"
      ],
      "metadata": {
        "id": "FAsFKXLxT78v"
      }
    },
    {
      "cell_type": "code",
      "source": [
        "prediction=model.predict(X_test[:4])\n",
        "print(prediction)"
      ],
      "metadata": {
        "colab": {
          "base_uri": "https://localhost:8080/"
        },
        "id": "J2YkqyNqUxwa",
        "outputId": "d67b7edd-76d2-4786-c54b-1e59a5724480"
      },
      "execution_count": 9,
      "outputs": [
        {
          "output_type": "stream",
          "name": "stdout",
          "text": [
            "1/1 [==============================] - 0s 136ms/step\n",
            "[[0.0000000e+00 0.0000000e+00 0.0000000e+00 7.1224880e-37 0.0000000e+00\n",
            "  0.0000000e+00 0.0000000e+00 1.0000000e+00 0.0000000e+00 0.0000000e+00]\n",
            " [0.0000000e+00 0.0000000e+00 1.0000000e+00 0.0000000e+00 0.0000000e+00\n",
            "  0.0000000e+00 2.6020672e-23 0.0000000e+00 0.0000000e+00 0.0000000e+00]\n",
            " [6.4648863e-32 1.0000000e+00 6.5033106e-36 0.0000000e+00 1.4387756e-30\n",
            "  2.5911351e-28 0.0000000e+00 2.7178078e-28 3.0383076e-24 0.0000000e+00]\n",
            " [1.0000000e+00 0.0000000e+00 0.0000000e+00 0.0000000e+00 0.0000000e+00\n",
            "  0.0000000e+00 0.0000000e+00 0.0000000e+00 0.0000000e+00 0.0000000e+00]]\n"
          ]
        }
      ]
    },
    {
      "cell_type": "markdown",
      "source": [
        "Saving the Model"
      ],
      "metadata": {
        "id": "FyYp5JT3VCZ3"
      }
    },
    {
      "cell_type": "code",
      "source": [
        "model.save('models/mnistCNN.h5')"
      ],
      "metadata": {
        "id": "pLOuS4gTVK7G"
      },
      "execution_count": 10,
      "outputs": []
    },
    {
      "cell_type": "markdown",
      "source": [
        "Test With Saved Model"
      ],
      "metadata": {
        "id": "U7NzgbebVRzD"
      }
    },
    {
      "cell_type": "code",
      "source": [
        "from google.colab import drive\n",
        "drive.mount('/content/drive')"
      ],
      "metadata": {
        "colab": {
          "base_uri": "https://localhost:8080/"
        },
        "id": "MS8YfnFa2dMs",
        "outputId": "83250c4b-552c-4e54-85b6-5fb46f2127ec"
      },
      "execution_count": 3,
      "outputs": [
        {
          "output_type": "stream",
          "name": "stdout",
          "text": [
            "Mounted at /content/drive\n"
          ]
        }
      ]
    },
    {
      "cell_type": "code",
      "source": [
        "from tensorflow.keras.models import load_model\n",
        "model= load_model(r'/content/drive/MyDrive/mnistCNN.h5')\n",
        "from PIL import Image\n",
        "import numpy as np\n",
        "\n",
        "img = Image.open('unnamed.png').convert(\"L\")\n",
        "img= img.resize((28,28))\n",
        "im2arr = np.array(img)\n",
        "im2arr = im2arr.reshape(1,28,28,1)\n",
        "y_pred = model.predict(im2arr)\n",
        "print(np.argmax(y_pred))\n"
      ],
      "metadata": {
        "colab": {
          "base_uri": "https://localhost:8080/"
        },
        "id": "FjwBT05IVWm2",
        "outputId": "82450ada-6f51-46d4-f7dc-1fb28a3e4aa0"
      },
      "execution_count": 15,
      "outputs": [
        {
          "output_type": "stream",
          "name": "stdout",
          "text": [
            "1/1 [==============================] - 0s 47ms/step\n",
            "8\n"
          ]
        }
      ]
    }
  ]
}