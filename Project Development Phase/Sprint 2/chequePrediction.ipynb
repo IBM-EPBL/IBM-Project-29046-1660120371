{
  "nbformat": 4,
  "nbformat_minor": 0,
  "metadata": {
    "colab": {
      "provenance": [],
      "collapsed_sections": []
    },
    "kernelspec": {
      "name": "python3",
      "display_name": "Python 3"
    },
    "language_info": {
      "name": "python"
    },
    "accelerator": "GPU",
    "gpuClass": "standard"
  },
  "cells": [
    {
      "cell_type": "markdown",
      "source": [
        "### 1. Importing the libraries and the dataset"
      ],
      "metadata": {
        "id": "cQ-1kBwRjmbq"
      }
    },
    {
      "cell_type": "code",
      "execution_count": 57,
      "metadata": {
        "id": "-Mj2YrrZfTDH"
      },
      "outputs": [],
      "source": [
        "import numpy\n",
        "import tensorflow\n",
        "from tensorflow.keras.datasets import mnist\n",
        "from tensorflow.keras.models import Sequential\n",
        "from tensorflow.keras import layers\n",
        "from tensorflow.keras.layers import Dense, Flatten\n",
        "from tensorflow.keras.layers import Conv2D\n",
        "from keras.optimizers import Adam\n",
        "from keras.utils import np_utils"
      ]
    },
    {
      "cell_type": "code",
      "source": [
        "(x_train, y_train), (x_test, y_test) = mnist.load_data()\n",
        "print(x_train.shape)\n",
        "print(x_test.shape)"
      ],
      "metadata": {
        "colab": {
          "base_uri": "https://localhost:8080/"
        },
        "id": "kge_3Y0fzwJS",
        "outputId": "ca9c3f24-272c-4ace-9cbd-f0f0086478c3"
      },
      "execution_count": 58,
      "outputs": [
        {
          "output_type": "stream",
          "name": "stdout",
          "text": [
            "(60000, 28, 28)\n",
            "(10000, 28, 28)\n"
          ]
        }
      ]
    },
    {
      "cell_type": "code",
      "source": [
        "#Reshape the data\n",
        "x_train = x_train.reshape(60000, 28, 28, 1).astype('float32')\n",
        "x_test = x_test.reshape(10000, 28, 28, 1).astype('float32')"
      ],
      "metadata": {
        "id": "2IU7m0t3z1SS"
      },
      "execution_count": 60,
      "outputs": []
    },
    {
      "cell_type": "code",
      "source": [
        "# Applying one-hot encoding\n",
        "classNum = 10\n",
        "y_train = np_utils.to_categorical(y_train, classNum)\n",
        "y_test = np_utils.to_categorical(y_test, classNum)"
      ],
      "metadata": {
        "id": "5kLdTdsVz6N8"
      },
      "execution_count": 61,
      "outputs": []
    },
    {
      "cell_type": "code",
      "source": [
        "# Creating the model\n",
        "model = Sequential()\n",
        "model.add(Conv2D(64, (3, 3), input_shape = (28, 28, 1), activation = 'relu'))\n",
        "model.add(Conv2D(32, (3, 3), activation = 'relu'))\n",
        "model.add(Flatten())\n",
        "model.add(Dense(classNum, activation = 'softmax'))\n",
        "model.compile(loss = 'categorical_crossentropy', optimizer = \"Adam\", metrics = ['accuracy'])\n",
        "model.fit(x_train, y_train, validation_data = (x_test, y_test), epochs = 5, batch_size = 32)"
      ],
      "metadata": {
        "colab": {
          "base_uri": "https://localhost:8080/"
        },
        "id": "upbk-Z66z99j",
        "outputId": "6c34b2c0-e371-410d-bc5a-7b0867f90dc3"
      },
      "execution_count": 62,
      "outputs": [
        {
          "output_type": "stream",
          "name": "stdout",
          "text": [
            "Epoch 1/5\n",
            "1875/1875 [==============================] - 8s 4ms/step - loss: 0.2987 - accuracy: 0.9466 - val_loss: 0.0998 - val_accuracy: 0.9681\n",
            "Epoch 2/5\n",
            "1875/1875 [==============================] - 8s 4ms/step - loss: 0.0727 - accuracy: 0.9776 - val_loss: 0.0977 - val_accuracy: 0.9730\n",
            "Epoch 3/5\n",
            "1875/1875 [==============================] - 8s 4ms/step - loss: 0.0522 - accuracy: 0.9840 - val_loss: 0.0851 - val_accuracy: 0.9764\n",
            "Epoch 4/5\n",
            "1875/1875 [==============================] - 8s 4ms/step - loss: 0.0405 - accuracy: 0.9869 - val_loss: 0.1012 - val_accuracy: 0.9728\n",
            "Epoch 5/5\n",
            "1875/1875 [==============================] - 7s 4ms/step - loss: 0.0325 - accuracy: 0.9897 - val_loss: 0.1154 - val_accuracy: 0.9734\n"
          ]
        },
        {
          "output_type": "execute_result",
          "data": {
            "text/plain": [
              "<keras.callbacks.History at 0x7f6c685de750>"
            ]
          },
          "metadata": {},
          "execution_count": 62
        }
      ]
    },
    {
      "cell_type": "code",
      "source": [
        "metrics = model.evaluate(x_test, y_test, verbose = 0)\n",
        "print(\"Test loss & Test Accuracy:\")\n",
        "print(metrics)"
      ],
      "metadata": {
        "colab": {
          "base_uri": "https://localhost:8080/"
        },
        "id": "7t_5PiFRDxz3",
        "outputId": "906059bb-372c-479c-a445-452fd3539004"
      },
      "execution_count": 63,
      "outputs": [
        {
          "output_type": "stream",
          "name": "stdout",
          "text": [
            "Test loss & Test Accuracy:\n",
            "[0.11542319506406784, 0.9733999967575073]\n"
          ]
        }
      ]
    },
    {
      "cell_type": "code",
      "source": [
        "model.save('models/number.h5')"
      ],
      "metadata": {
        "id": "Ud3O54NqEV31"
      },
      "execution_count": 64,
      "outputs": []
    },
    {
      "cell_type": "code",
      "source": [
        "# Taking random images and testing the model\n",
        "from tensorflow.keras.models import load_model\n",
        "from PIL import Image\n",
        "import numpy as np\n",
        "\n",
        "tModel = load_model(r'/content/models/number.h5')\n",
        "img = Image.open('/content/download.png').convert(\"L\")\n",
        "img = img.resize((28, 28))\n",
        "imgArr = np.array(img).reshape(1, 28, 28, 1)\n",
        "pred = model.predict(imgArr)\n",
        "print(np.argmax(pred, axis = 1))"
      ],
      "metadata": {
        "colab": {
          "base_uri": "https://localhost:8080/"
        },
        "id": "J8oJRhbtEfQf",
        "outputId": "c856567b-cf2c-48cc-c101-0b1d4188a843"
      },
      "execution_count": 72,
      "outputs": [
        {
          "output_type": "stream",
          "name": "stdout",
          "text": [
            "1/1 [==============================] - 0s 22ms/step\n",
            "[4]\n"
          ]
        }
      ]
    }
  ]
}